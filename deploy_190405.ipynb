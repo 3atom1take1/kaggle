{
  "nbformat": 4,
  "nbformat_minor": 0,
  "metadata": {
    "colab": {
      "name": "deploy_190405.ipynb",
      "version": "0.3.2",
      "provenance": [],
      "collapsed_sections": [],
      "toc_visible": true,
      "include_colab_link": true
    },
    "kernelspec": {
      "name": "python3",
      "display_name": "Python 3"
    },
    "accelerator": "TPU"
  },
  "cells": [
    {
      "cell_type": "markdown",
      "metadata": {
        "id": "view-in-github",
        "colab_type": "text"
      },
      "source": [
        "<a href=\"https://colab.research.google.com/github/3atom1take1/kaggle/blob/master/deploy_190405.ipynb\" target=\"_parent\"><img src=\"https://colab.research.google.com/assets/colab-badge.svg\" alt=\"Open In Colab\"/></a>"
      ]
    },
    {
      "metadata": {
        "id": "Z6IzqVNypp3a",
        "colab_type": "text"
      },
      "cell_type": "markdown",
      "source": [
        "# Colab設定"
      ]
    },
    {
      "metadata": {
        "id": "hLObiY4iputS",
        "colab_type": "code",
        "colab": {}
      },
      "cell_type": "code",
      "source": [
        "# ドライブのファイルを読み書きするためのライブラリ\n",
        "import google.colab\n",
        "import googleapiclient.discovery\n",
        "import googleapiclient.http\n",
        "\n",
        "google.colab.auth.authenticate_user()\n",
        "drive_service = googleapiclient.discovery.build('drive','v3')\n",
        "\n",
        "# AUTH認証が必要"
      ],
      "execution_count": 0,
      "outputs": []
    },
    {
      "metadata": {
        "id": "37Ol14vspupJ",
        "colab_type": "code",
        "outputId": "ab1b4fd6-4f58-46ac-b3c9-b8ba55cee933",
        "colab": {
          "base_uri": "https://localhost:8080/",
          "height": 35
        }
      },
      "cell_type": "code",
      "source": [
        "# 事前にフォルダにkaggle.jsonをアップロードしておく必要あり\n",
        "from google.colab import files\n",
        "!more kaggle.json\n",
        "# kaggle.jsonをアップロードする"
      ],
      "execution_count": 219,
      "outputs": [
        {
          "output_type": "stream",
          "text": [
            "{\"username\":\"fivesigma\",\"key\":\"5a0c1ef9bd7c94b2f0fb1d77429dc584\"}\n"
          ],
          "name": "stdout"
        }
      ]
    },
    {
      "metadata": {
        "id": "wbR-wY4spueT",
        "colab_type": "code",
        "colab": {}
      },
      "cell_type": "code",
      "source": [
        "!mkdir -p ~/.kaggle\n",
        "!cp kaggle.json ~/.kaggle/"
      ],
      "execution_count": 0,
      "outputs": []
    },
    {
      "metadata": {
        "id": "JJ6-p79UpuZ_",
        "colab_type": "code",
        "outputId": "7fc37cb1-e737-46c6-8a73-7774cef60d90",
        "colab": {
          "base_uri": "https://localhost:8080/",
          "height": 210
        }
      },
      "cell_type": "code",
      "source": [
        "!pip install kaggle"
      ],
      "execution_count": 221,
      "outputs": [
        {
          "output_type": "stream",
          "text": [
            "Requirement already satisfied: kaggle in /usr/local/lib/python3.6/dist-packages (1.5.3)\n",
            "Requirement already satisfied: urllib3<1.25,>=1.21.1 in /usr/local/lib/python3.6/dist-packages (from kaggle) (1.22)\n",
            "Requirement already satisfied: six>=1.10 in /usr/local/lib/python3.6/dist-packages (from kaggle) (1.11.0)\n",
            "Requirement already satisfied: certifi in /usr/local/lib/python3.6/dist-packages (from kaggle) (2019.3.9)\n",
            "Requirement already satisfied: python-dateutil in /usr/local/lib/python3.6/dist-packages (from kaggle) (2.5.3)\n",
            "Requirement already satisfied: requests in /usr/local/lib/python3.6/dist-packages (from kaggle) (2.18.4)\n",
            "Requirement already satisfied: tqdm in /usr/local/lib/python3.6/dist-packages (from kaggle) (4.28.1)\n",
            "Requirement already satisfied: python-slugify in /usr/local/lib/python3.6/dist-packages (from kaggle) (3.0.2)\n",
            "Requirement already satisfied: chardet<3.1.0,>=3.0.2 in /usr/local/lib/python3.6/dist-packages (from requests->kaggle) (3.0.4)\n",
            "Requirement already satisfied: idna<2.7,>=2.5 in /usr/local/lib/python3.6/dist-packages (from requests->kaggle) (2.6)\n",
            "Requirement already satisfied: text-unidecode==1.2 in /usr/local/lib/python3.6/dist-packages (from python-slugify->kaggle) (1.2)\n"
          ],
          "name": "stdout"
        }
      ]
    },
    {
      "metadata": {
        "id": "xx5LS8DPpuVi",
        "colab_type": "code",
        "colab": {}
      },
      "cell_type": "code",
      "source": [
        "!chmod 600 /root/.kaggle/kaggle.json"
      ],
      "execution_count": 0,
      "outputs": []
    },
    {
      "metadata": {
        "id": "8xEHz8zwpuQI",
        "colab_type": "code",
        "outputId": "b7600193-27cd-456c-f91b-6b97ea5c684c",
        "colab": {
          "base_uri": "https://localhost:8080/",
          "height": 175
        }
      },
      "cell_type": "code",
      "source": [
        "# kaggle APIキーを打ち込む（コンペごとに異なる）\n",
        "!kaggle competitions download -c titanic"
      ],
      "execution_count": 0,
      "outputs": [
        {
          "output_type": "stream",
          "text": [
            "Downloading train.csv to /content\n",
            "\r  0% 0.00/59.8k [00:00<?, ?B/s]\n",
            "100% 59.8k/59.8k [00:00<00:00, 47.1MB/s]\n",
            "Downloading test.csv to /content\n",
            "  0% 0.00/28.0k [00:00<?, ?B/s]\n",
            "100% 28.0k/28.0k [00:00<00:00, 26.0MB/s]\n",
            "Downloading gender_submission.csv to /content\n",
            "  0% 0.00/3.18k [00:00<?, ?B/s]\n",
            "100% 3.18k/3.18k [00:00<00:00, 3.05MB/s]\n"
          ],
          "name": "stdout"
        }
      ]
    },
    {
      "metadata": {
        "id": "GpvR1hyUq9wG",
        "colab_type": "code",
        "outputId": "61bf13f7-02a0-4f0c-d2d9-3918b26ead61",
        "colab": {
          "base_uri": "https://localhost:8080/",
          "height": 52
        }
      },
      "cell_type": "code",
      "source": [
        "!mkdir input"
      ],
      "execution_count": 0,
      "outputs": [
        {
          "output_type": "stream",
          "text": [
            "mkdir: cannot create directory ‘input’: File exists\n",
            "mkdir: cannot create directory ‘output’: File exists\n"
          ],
          "name": "stdout"
        }
      ]
    },
    {
      "metadata": {
        "id": "L3dh54GUr7ud",
        "colab_type": "code",
        "colab": {}
      },
      "cell_type": "code",
      "source": [
        "!mv train.csv input\n",
        "!mv test.csv input"
      ],
      "execution_count": 0,
      "outputs": []
    },
    {
      "metadata": {
        "id": "OSgT-FgGpyGj",
        "colab_type": "text"
      },
      "cell_type": "markdown",
      "source": [
        "# 前処理"
      ]
    },
    {
      "metadata": {
        "colab_type": "code",
        "id": "C6t2Xy2lpEWi",
        "colab": {}
      },
      "cell_type": "code",
      "source": [
        "# 基本ライブラリのインポート\n",
        "import pandas as pd\n",
        "import numpy as np\n",
        "import matplotlib\n",
        "import matplotlib.pyplot as plt\n",
        "import seaborn as sns\n",
        "%matplotlib inline\n",
        "import datetime"
      ],
      "execution_count": 0,
      "outputs": []
    },
    {
      "metadata": {
        "id": "1XAFrZAgpfWV",
        "colab_type": "code",
        "colab": {}
      },
      "cell_type": "code",
      "source": [
        "train_path = './input/train.csv'\n",
        "test_path = './input/test.csv'"
      ],
      "execution_count": 0,
      "outputs": []
    },
    {
      "metadata": {
        "id": "h-ssHizPpfWd",
        "colab_type": "code",
        "colab": {}
      },
      "cell_type": "code",
      "source": [
        "df_train = pd.read_csv(train_path , encoding = 'utf-8')\n",
        "df_test = pd.read_csv(test_path , encoding = 'utf-8')\n",
        "df_source = pd.concat([df_train, df_test])"
      ],
      "execution_count": 0,
      "outputs": []
    },
    {
      "metadata": {
        "id": "Qr5JqK3QqrM6",
        "colab_type": "code",
        "outputId": "b0ef5a93-38ed-4682-d3de-931baed38e4a",
        "colab": {
          "base_uri": "https://localhost:8080/",
          "height": 52
        }
      },
      "cell_type": "code",
      "source": [
        "print('df_train:',df_train.shape)\n",
        "print('df_test:',df_test.shape)"
      ],
      "execution_count": 226,
      "outputs": [
        {
          "output_type": "stream",
          "text": [
            "df_train: (891, 12)\n",
            "df_test: (418, 11)\n"
          ],
          "name": "stdout"
        }
      ]
    },
    {
      "metadata": {
        "colab_type": "text",
        "id": "_vWy3AaWpEW0"
      },
      "cell_type": "markdown",
      "source": [
        "# データ可視化"
      ]
    },
    {
      "metadata": {
        "colab_type": "code",
        "id": "T0F9bz4GpEW2",
        "outputId": "26c13300-d61b-4396-a862-fbcde3a7f434",
        "colab": {
          "base_uri": "https://localhost:8080/",
          "height": 223
        }
      },
      "cell_type": "code",
      "source": [
        "df_source.head()"
      ],
      "execution_count": 0,
      "outputs": [
        {
          "output_type": "execute_result",
          "data": {
            "text/html": [
              "<div>\n",
              "<style scoped>\n",
              "    .dataframe tbody tr th:only-of-type {\n",
              "        vertical-align: middle;\n",
              "    }\n",
              "\n",
              "    .dataframe tbody tr th {\n",
              "        vertical-align: top;\n",
              "    }\n",
              "\n",
              "    .dataframe thead th {\n",
              "        text-align: right;\n",
              "    }\n",
              "</style>\n",
              "<table border=\"1\" class=\"dataframe\">\n",
              "  <thead>\n",
              "    <tr style=\"text-align: right;\">\n",
              "      <th></th>\n",
              "      <th>Age</th>\n",
              "      <th>Cabin</th>\n",
              "      <th>Embarked</th>\n",
              "      <th>Fare</th>\n",
              "      <th>Name</th>\n",
              "      <th>Parch</th>\n",
              "      <th>PassengerId</th>\n",
              "      <th>Pclass</th>\n",
              "      <th>Sex</th>\n",
              "      <th>SibSp</th>\n",
              "      <th>Survived</th>\n",
              "      <th>Ticket</th>\n",
              "    </tr>\n",
              "  </thead>\n",
              "  <tbody>\n",
              "    <tr>\n",
              "      <th>0</th>\n",
              "      <td>22.0</td>\n",
              "      <td>NaN</td>\n",
              "      <td>S</td>\n",
              "      <td>7.2500</td>\n",
              "      <td>Braund, Mr. Owen Harris</td>\n",
              "      <td>0</td>\n",
              "      <td>1</td>\n",
              "      <td>3</td>\n",
              "      <td>male</td>\n",
              "      <td>1</td>\n",
              "      <td>0.0</td>\n",
              "      <td>A/5 21171</td>\n",
              "    </tr>\n",
              "    <tr>\n",
              "      <th>1</th>\n",
              "      <td>38.0</td>\n",
              "      <td>C85</td>\n",
              "      <td>C</td>\n",
              "      <td>71.2833</td>\n",
              "      <td>Cumings, Mrs. John Bradley (Florence Briggs Th...</td>\n",
              "      <td>0</td>\n",
              "      <td>2</td>\n",
              "      <td>1</td>\n",
              "      <td>female</td>\n",
              "      <td>1</td>\n",
              "      <td>1.0</td>\n",
              "      <td>PC 17599</td>\n",
              "    </tr>\n",
              "    <tr>\n",
              "      <th>2</th>\n",
              "      <td>26.0</td>\n",
              "      <td>NaN</td>\n",
              "      <td>S</td>\n",
              "      <td>7.9250</td>\n",
              "      <td>Heikkinen, Miss. Laina</td>\n",
              "      <td>0</td>\n",
              "      <td>3</td>\n",
              "      <td>3</td>\n",
              "      <td>female</td>\n",
              "      <td>0</td>\n",
              "      <td>1.0</td>\n",
              "      <td>STON/O2. 3101282</td>\n",
              "    </tr>\n",
              "    <tr>\n",
              "      <th>3</th>\n",
              "      <td>35.0</td>\n",
              "      <td>C123</td>\n",
              "      <td>S</td>\n",
              "      <td>53.1000</td>\n",
              "      <td>Futrelle, Mrs. Jacques Heath (Lily May Peel)</td>\n",
              "      <td>0</td>\n",
              "      <td>4</td>\n",
              "      <td>1</td>\n",
              "      <td>female</td>\n",
              "      <td>1</td>\n",
              "      <td>1.0</td>\n",
              "      <td>113803</td>\n",
              "    </tr>\n",
              "    <tr>\n",
              "      <th>4</th>\n",
              "      <td>35.0</td>\n",
              "      <td>NaN</td>\n",
              "      <td>S</td>\n",
              "      <td>8.0500</td>\n",
              "      <td>Allen, Mr. William Henry</td>\n",
              "      <td>0</td>\n",
              "      <td>5</td>\n",
              "      <td>3</td>\n",
              "      <td>male</td>\n",
              "      <td>0</td>\n",
              "      <td>0.0</td>\n",
              "      <td>373450</td>\n",
              "    </tr>\n",
              "  </tbody>\n",
              "</table>\n",
              "</div>"
            ],
            "text/plain": [
              "    Age Cabin Embarked     Fare  \\\n",
              "0  22.0   NaN        S   7.2500   \n",
              "1  38.0   C85        C  71.2833   \n",
              "2  26.0   NaN        S   7.9250   \n",
              "3  35.0  C123        S  53.1000   \n",
              "4  35.0   NaN        S   8.0500   \n",
              "\n",
              "                                                Name  Parch  PassengerId  \\\n",
              "0                            Braund, Mr. Owen Harris      0            1   \n",
              "1  Cumings, Mrs. John Bradley (Florence Briggs Th...      0            2   \n",
              "2                             Heikkinen, Miss. Laina      0            3   \n",
              "3       Futrelle, Mrs. Jacques Heath (Lily May Peel)      0            4   \n",
              "4                           Allen, Mr. William Henry      0            5   \n",
              "\n",
              "   Pclass     Sex  SibSp  Survived            Ticket  \n",
              "0       3    male      1       0.0         A/5 21171  \n",
              "1       1  female      1       1.0          PC 17599  \n",
              "2       3  female      0       1.0  STON/O2. 3101282  \n",
              "3       1  female      1       1.0            113803  \n",
              "4       3    male      0       0.0            373450  "
            ]
          },
          "metadata": {
            "tags": []
          },
          "execution_count": 212
        }
      ]
    },
    {
      "metadata": {
        "colab_type": "code",
        "id": "_W3vMvTgpEXC",
        "outputId": "a3df53f7-0706-4a5d-c721-5428573b9349",
        "colab": {
          "base_uri": "https://localhost:8080/",
          "height": 315
        }
      },
      "cell_type": "code",
      "source": [
        "df_source.info()"
      ],
      "execution_count": 0,
      "outputs": [
        {
          "output_type": "stream",
          "text": [
            "<class 'pandas.core.frame.DataFrame'>\n",
            "Int64Index: 1309 entries, 0 to 417\n",
            "Data columns (total 12 columns):\n",
            "Age            1046 non-null float64\n",
            "Cabin          295 non-null object\n",
            "Embarked       1307 non-null object\n",
            "Fare           1308 non-null float64\n",
            "Name           1309 non-null object\n",
            "Parch          1309 non-null int64\n",
            "PassengerId    1309 non-null int64\n",
            "Pclass         1309 non-null int64\n",
            "Sex            1309 non-null object\n",
            "SibSp          1309 non-null int64\n",
            "Survived       891 non-null float64\n",
            "Ticket         1309 non-null object\n",
            "dtypes: float64(3), int64(4), object(5)\n",
            "memory usage: 132.9+ KB\n"
          ],
          "name": "stdout"
        }
      ]
    },
    {
      "metadata": {
        "colab_type": "code",
        "id": "GGUm--X2pEXG",
        "colab": {}
      },
      "cell_type": "code",
      "source": [
        "sns.set()"
      ],
      "execution_count": 0,
      "outputs": []
    },
    {
      "metadata": {
        "colab_type": "code",
        "id": "wm0tH8GSpEXJ",
        "colab": {}
      },
      "cell_type": "code",
      "source": [
        "# 目的変数の設定\n",
        "target = 'Survived'\n",
        "\n",
        "#質的変数\n",
        "v1 = 'Sex'\n",
        "\n",
        "#量的変数\n",
        "v2 = 'Age' \n",
        "v3 ='Fare'"
      ],
      "execution_count": 0,
      "outputs": []
    },
    {
      "metadata": {
        "colab_type": "code",
        "id": "0GMNUF4gpEXM",
        "outputId": "f45b826e-9555-4f3b-dd93-743e186d79a0",
        "colab": {
          "base_uri": "https://localhost:8080/",
          "height": 413
        }
      },
      "cell_type": "code",
      "source": [
        "sns.countplot(target,data = df_source)"
      ],
      "execution_count": 0,
      "outputs": [
        {
          "output_type": "stream",
          "text": [
            "/usr/local/lib/python3.6/dist-packages/seaborn/categorical.py:1428: FutureWarning: remove_na is deprecated and is a private function. Do not use.\n",
            "  stat_data = remove_na(group_data)\n"
          ],
          "name": "stderr"
        },
        {
          "output_type": "execute_result",
          "data": {
            "text/plain": [
              "<matplotlib.axes._subplots.AxesSubplot at 0x7fc84ffb6fd0>"
            ]
          },
          "metadata": {
            "tags": []
          },
          "execution_count": 93
        },
        {
          "output_type": "display_data",
          "data": {
            "image/png": "[encoded data removed]",
            "text/plain": [
              "<Figure size 576x396 with 1 Axes>"
            ]
          },
          "metadata": {
            "tags": []
          }
        }
      ]
    },
    {
      "metadata": {
        "colab_type": "code",
        "id": "pAI4WS8QpEXQ",
        "outputId": "84a32dcd-b5b5-40bd-e60a-92034e2bccb9",
        "colab": {
          "base_uri": "https://localhost:8080/",
          "height": 413
        }
      },
      "cell_type": "code",
      "source": [
        "sns.countplot(target ,hue = v1,data = df_source)"
      ],
      "execution_count": 0,
      "outputs": [
        {
          "output_type": "stream",
          "text": [
            "/usr/local/lib/python3.6/dist-packages/seaborn/categorical.py:1468: FutureWarning: remove_na is deprecated and is a private function. Do not use.\n",
            "  stat_data = remove_na(group_data[hue_mask])\n"
          ],
          "name": "stderr"
        },
        {
          "output_type": "execute_result",
          "data": {
            "text/plain": [
              "<matplotlib.axes._subplots.AxesSubplot at 0x7fc8500f2cc0>"
            ]
          },
          "metadata": {
            "tags": []
          },
          "execution_count": 94
        },
        {
          "output_type": "display_data",
          "data": {
            "image/png": "[encoded data removed]",
            "text/plain": [
              "<Figure size 576x396 with 1 Axes>"
            ]
          },
          "metadata": {
            "tags": []
          }
        }
      ]
    },
    {
      "metadata": {
        "colab_type": "code",
        "id": "u-B2dbNmpEXU",
        "outputId": "22b1db97-aef4-4ad7-e723-7758ca510b4c",
        "colab": {
          "base_uri": "https://localhost:8080/",
          "height": 378
        }
      },
      "cell_type": "code",
      "source": [
        "sns.stripplot(df_source[target],df_source[v3])"
      ],
      "execution_count": 0,
      "outputs": [
        {
          "output_type": "execute_result",
          "data": {
            "text/plain": [
              "<matplotlib.axes._subplots.AxesSubplot at 0x7fc8500f82e8>"
            ]
          },
          "metadata": {
            "tags": []
          },
          "execution_count": 95
        },
        {
          "output_type": "display_data",
          "data": {
            "image/png": "[encoded data removed]",
            "text/plain": [
              "<Figure size 576x396 with 1 Axes>"
            ]
          },
          "metadata": {
            "tags": []
          }
        }
      ]
    },
    {
      "metadata": {
        "colab_type": "code",
        "id": "MHTy1Uj0pEXZ",
        "outputId": "2991f5f6-ed80-4f38-9dd6-dccfb29b5c39",
        "colab": {
          "base_uri": "https://localhost:8080/",
          "height": 527
        }
      },
      "cell_type": "code",
      "source": [
        "g = sns.FacetGrid(df_source , hue = target ,size = 7)\n",
        "g.map(plt.scatter,v2,v3).add_legend()"
      ],
      "execution_count": 0,
      "outputs": [
        {
          "output_type": "execute_result",
          "data": {
            "text/plain": [
              "<seaborn.axisgrid.FacetGrid at 0x7fc85012acf8>"
            ]
          },
          "metadata": {
            "tags": []
          },
          "execution_count": 96
        },
        {
          "output_type": "display_data",
          "data": {
            "image/png": "[encoded data removed]",
            "text/plain": [
              "<Figure size 554x504 with 1 Axes>"
            ]
          },
          "metadata": {
            "tags": []
          }
        }
      ]
    },
    {
      "metadata": {
        "colab_type": "code",
        "id": "TbaXpIbzpEXd",
        "outputId": "6e511615-045e-4d58-ec72-899bdb6a0121",
        "colab": {
          "base_uri": "https://localhost:8080/",
          "height": 378
        }
      },
      "cell_type": "code",
      "source": [
        "sns.swarmplot(x =v1,y = v2 ,hue = target, data = df_source)"
      ],
      "execution_count": 0,
      "outputs": [
        {
          "output_type": "execute_result",
          "data": {
            "text/plain": [
              "<matplotlib.axes._subplots.AxesSubplot at 0x7fc84ff48a58>"
            ]
          },
          "metadata": {
            "tags": []
          },
          "execution_count": 97
        },
        {
          "output_type": "display_data",
          "data": {
            "image/png": "[encoded data removed]",
            "text/plain": [
              "<Figure size 576x396 with 1 Axes>"
            ]
          },
          "metadata": {
            "tags": []
          }
        }
      ]
    },
    {
      "metadata": {
        "colab_type": "code",
        "id": "VrJ7a5u0pEXl",
        "outputId": "e69c2a21-c0b0-4e44-d05d-28344f7ff7db",
        "colab": {
          "base_uri": "https://localhost:8080/",
          "height": 413
        }
      },
      "cell_type": "code",
      "source": [
        "sns.boxplot(x = v1 ,y=v2,data = df_source)"
      ],
      "execution_count": 0,
      "outputs": [
        {
          "output_type": "stream",
          "text": [
            "/usr/local/lib/python3.6/dist-packages/seaborn/categorical.py:454: FutureWarning: remove_na is deprecated and is a private function. Do not use.\n",
            "  box_data = remove_na(group_data)\n"
          ],
          "name": "stderr"
        },
        {
          "output_type": "execute_result",
          "data": {
            "text/plain": [
              "<matplotlib.axes._subplots.AxesSubplot at 0x7fc84feb6278>"
            ]
          },
          "metadata": {
            "tags": []
          },
          "execution_count": 98
        },
        {
          "output_type": "display_data",
          "data": {
            "image/png": "[encoded data removed]",
            "text/plain": [
              "<Figure size 576x396 with 1 Axes>"
            ]
          },
          "metadata": {
            "tags": []
          }
        }
      ]
    },
    {
      "metadata": {
        "colab_type": "text",
        "id": "hlOduf73pEX2"
      },
      "cell_type": "markdown",
      "source": [
        "# 欠損値処理"
      ]
    },
    {
      "metadata": {
        "colab_type": "code",
        "id": "ouVcFJR5pEX3",
        "colab": {}
      },
      "cell_type": "code",
      "source": [
        "import missingno as msno"
      ],
      "execution_count": 0,
      "outputs": []
    },
    {
      "metadata": {
        "colab_type": "code",
        "id": "yQ4hNmhQpEX6",
        "outputId": "d2889a19-8ea7-4a54-f949-4be3912ca9d4",
        "colab": {
          "base_uri": "https://localhost:8080/",
          "height": 705
        }
      },
      "cell_type": "code",
      "source": [
        "# 欠損値の可視化\n",
        "msno.matrix(df_source)"
      ],
      "execution_count": 0,
      "outputs": [
        {
          "output_type": "execute_result",
          "data": {
            "text/plain": [
              "<matplotlib.axes._subplots.AxesSubplot at 0x7fc850ccb630>"
            ]
          },
          "metadata": {
            "tags": []
          },
          "execution_count": 48
        },
        {
          "output_type": "display_data",
          "data": {
            "image/png": "[encoded data removed]",
            "text/plain": [
              "<Figure size 1800x720 with 2 Axes>"
            ]
          },
          "metadata": {
            "tags": []
          }
        }
      ]
    },
    {
      "metadata": {
        "colab_type": "code",
        "id": "x05t3Gz6pEYC",
        "outputId": "a227429c-a9bc-402f-fa35-6f847ece25f3",
        "colab": {
          "base_uri": "https://localhost:8080/",
          "height": 790
        }
      },
      "cell_type": "code",
      "source": [
        "# 各列の欠損値の発生箇所の相関\n",
        "msno.heatmap(df_source)"
      ],
      "execution_count": 0,
      "outputs": [
        {
          "output_type": "execute_result",
          "data": {
            "text/plain": [
              "<matplotlib.axes._subplots.AxesSubplot at 0x7fc850c4cd68>"
            ]
          },
          "metadata": {
            "tags": []
          },
          "execution_count": 51
        },
        {
          "output_type": "display_data",
          "data": {
            "image/png": "[encoded data removed]",
            "text/plain": [
              "<Figure size 1440x864 with 1 Axes>"
            ]
          },
          "metadata": {
            "tags": []
          }
        }
      ]
    },
    {
      "metadata": {
        "id": "oHcfw7CFpfaX",
        "colab_type": "code",
        "outputId": "d160f443-f520-4f13-848d-8ce67fe373a2",
        "colab": {
          "base_uri": "https://localhost:8080/",
          "height": 52
        }
      },
      "cell_type": "code",
      "source": [
        "df_source.columns.values"
      ],
      "execution_count": 0,
      "outputs": [
        {
          "output_type": "execute_result",
          "data": {
            "text/plain": [
              "array(['Age', 'Cabin', 'Embarked', 'Fare', 'Name', 'Parch', 'PassengerId',\n",
              "       'Pclass', 'Sex', 'SibSp', 'Survived', 'Ticket'], dtype=object)"
            ]
          },
          "metadata": {
            "tags": []
          },
          "execution_count": 214
        }
      ]
    },
    {
      "metadata": {
        "colab_type": "code",
        "id": "cW726zXiJKfO",
        "outputId": "6ce17169-d10a-42be-e456-71965130ddef",
        "colab": {
          "base_uri": "https://localhost:8080/",
          "height": 70
        }
      },
      "cell_type": "code",
      "source": [
        "df_source['Sex'].value_counts()"
      ],
      "execution_count": 0,
      "outputs": [
        {
          "output_type": "execute_result",
          "data": {
            "text/plain": [
              "male      843\n",
              "female    466\n",
              "Name: Sex, dtype: int64"
            ]
          },
          "metadata": {
            "tags": []
          },
          "execution_count": 215
        }
      ]
    },
    {
      "metadata": {
        "colab_type": "code",
        "id": "-9FG9X95pEYL",
        "colab": {}
      },
      "cell_type": "code",
      "source": [
        "df_source = df_source[['Survived', 'Pclass', 'Sex', 'Age', 'SibSp',\n",
        "       'Parch', 'Fare', 'Cabin', 'Embarked']]"
      ],
      "execution_count": 0,
      "outputs": []
    },
    {
      "metadata": {
        "colab_type": "code",
        "id": "a3ihBZ3hpEYP",
        "colab": {}
      },
      "cell_type": "code",
      "source": [
        "# # 年齢の欠損値があるデータに年齢の中央値を入れる\n",
        "# df_source.loc[:,['Age']] = df_source.loc[:,['Age']].fillna(df_source.loc[:,['Age']].median())\n",
        "# df_source['Embarked'] = df_source.dropna(subset=['Embarked'])"
      ],
      "execution_count": 0,
      "outputs": []
    },
    {
      "metadata": {
        "colab_type": "code",
        "id": "Jwe-C0A0pEYZ",
        "colab": {}
      },
      "cell_type": "code",
      "source": [
        "df_source = pd.get_dummies(df_source,drop_first=True)"
      ],
      "execution_count": 0,
      "outputs": []
    },
    {
      "metadata": {
        "id": "481MIOuz0_Qr",
        "colab_type": "code",
        "colab": {}
      },
      "cell_type": "code",
      "source": [
        "df_train = df_source[:len(df_train)]\n",
        "df_sub = df_source[len(df_train):]"
      ],
      "execution_count": 0,
      "outputs": []
    },
    {
      "metadata": {
        "id": "DXUSSHva3tKl",
        "colab_type": "code",
        "outputId": "116f9dde-3836-4935-bc9b-9ed55d193a9f",
        "colab": {
          "base_uri": "https://localhost:8080/",
          "height": 35
        }
      },
      "cell_type": "code",
      "source": [
        "df_sub.shape"
      ],
      "execution_count": 231,
      "outputs": [
        {
          "output_type": "execute_result",
          "data": {
            "text/plain": [
              "(418, 194)"
            ]
          },
          "metadata": {
            "tags": []
          },
          "execution_count": 231
        }
      ]
    },
    {
      "metadata": {
        "id": "F9uPzsbOpfb1",
        "colab_type": "code",
        "colab": {}
      },
      "cell_type": "code",
      "source": [
        "# データの分割\n",
        "target_column_name = 'Survived'\n",
        "# データの分割\n",
        "from sklearn.model_selection import train_test_split\n",
        "\n",
        "## trainとtestデータのデフォルト数が均等に成るように設定\n",
        "df_train , df_test = train_test_split(df_train ,test_size = 0.2, stratify=df_train[target_column_name],random_state = 0)\n",
        "\n",
        "\n",
        "X_train = df_train.drop(df_train.select_dtypes(include = object),axis = 1)\n",
        "X_train = df_train.drop(target_column_name,axis = 1)\n",
        "y_train = df_train[target_column_name]\n",
        "\n",
        "X_test = df_test.drop(df_test.select_dtypes(include = object),axis = 1)\n",
        "X_test = df_test.drop(target_column_name,axis = 1)\n",
        "y_test = df_test[target_column_name]\n",
        "\n",
        "\n",
        "# 提出用ファイル\n",
        "df_sub = df_sub.drop(df_sub.select_dtypes(include = object),axis = 1)\n",
        "df_sub = df_sub.drop(target_column_name,axis = 1)\n"
      ],
      "execution_count": 0,
      "outputs": []
    },
    {
      "metadata": {
        "colab_type": "text",
        "id": "MkTJRh0N9TxC"
      },
      "cell_type": "markdown",
      "source": [
        "# XGBoost"
      ]
    },
    {
      "metadata": {
        "colab_type": "code",
        "id": "sr-ZsNC677wO",
        "colab": {}
      },
      "cell_type": "code",
      "source": [
        "import xgboost as xgb\n",
        "from sklearn.model_selection import GridSearchCV\n",
        "from sklearn import metrics\n",
        "from sklearn.metrics import (roc_curve, auc, accuracy_score)"
      ],
      "execution_count": 0,
      "outputs": []
    },
    {
      "metadata": {
        "colab_type": "code",
        "id": "mKxVd13bPnk5",
        "outputId": "dfc5210b-bf78-483b-97ad-e2462ba003d5",
        "colab": {
          "base_uri": "https://localhost:8080/",
          "height": 140
        }
      },
      "cell_type": "code",
      "source": [
        "print('\\n# Survived rate')\n",
        "print('train: size:{} ,default {} , rate {:f}'.format(\n",
        "y_train.size,\n",
        "np.count_nonzero(y_train),\n",
        "np.count_nonzero(y_train) / y_train.size))\n",
        "\n",
        "print('test : size: {} , default {}, rate {:f}'.format(\n",
        "y_test.size,\n",
        "np.count_nonzero(y_test),\n",
        "np.count_nonzero(y_test) / y_test.size))\n",
        "\n",
        "weight = df_source.shape[0] / np.count_nonzero(df_source[target_column_name])\n",
        "\n",
        "# Grid Search\n",
        "parameters = {'max_depth': [3, 4, 5, 6,7],\n",
        "            'min_child_weight': [0.5, 0.8, 1, 2, 3],\n",
        "            'n_estimators': [50, 100, 200, 300, 500],\n",
        "            'subsample': [0.8, 0.95, 1],\n",
        "            'colsample_bytree': [1.0],\n",
        "    }\n",
        "clf_xgb = GridSearchCV(xgb.XGBClassifier(random_state = 0), parameters,scoring ='accuracy',cv =2 ,n_jobs = -1)\n",
        "clf_xgb = clf_xgb.fit(X_train ,y_train)\n",
        "pred_xgb = clf_xgb.predict(X_test)\n",
        "fpr_xgb, tpr_xgb, thresholds_xgb = roc_curve(y_test, pred_xgb, pos_label=1)\n",
        "print('AUC:',auc(fpr_xgb, tpr_xgb))\n",
        "print('正解率:',accuracy_score(pred_xgb, y_test))\n",
        "print(\"Best Parameter: {}\".format(clf_xgb.best_params_))"
      ],
      "execution_count": 234,
      "outputs": [
        {
          "output_type": "stream",
          "text": [
            "\n",
            "# Survived rate\n",
            "train: size:712 ,default 273 , rate 0.383427\n",
            "test : size: 179 , default 69, rate 0.385475\n",
            "AUC: 0.7725296442687748\n",
            "正解率: 0.8100558659217877\n",
            "Best Parameter: {'colsample_bytree': 1.0, 'max_depth': 3, 'min_child_weight': 0.5, 'n_estimators': 50, 'subsample': 0.95}\n"
          ],
          "name": "stdout"
        }
      ]
    },
    {
      "metadata": {
        "colab_type": "code",
        "id": "-FLIhEGkZ8LG",
        "colab": {}
      },
      "cell_type": "code",
      "source": [
        "# LightGBM"
      ],
      "execution_count": 0,
      "outputs": []
    },
    {
      "metadata": {
        "id": "E2DOxLplpfcl",
        "colab_type": "code",
        "colab": {}
      },
      "cell_type": "code",
      "source": [
        "import lightgbm as lgb"
      ],
      "execution_count": 0,
      "outputs": []
    },
    {
      "metadata": {
        "id": "-WXyeUILpfcw",
        "colab_type": "code",
        "colab": {
          "base_uri": "https://localhost:8080/",
          "height": 140
        },
        "outputId": "2e7dfd98-4628-4aa2-d3d6-1297af3f4e07"
      },
      "cell_type": "code",
      "source": [
        "print('\\n# Survived rate')\n",
        "print('train: size:{} ,default {} , rate {:f}'.format(\n",
        "y_train.size,\n",
        "np.count_nonzero(y_train),\n",
        "np.count_nonzero(y_train) / y_train.size))\n",
        "\n",
        "print('test : size: {} , default {}, rate {:f}'.format(\n",
        "y_test.size,\n",
        "np.count_nonzero(y_test),\n",
        "np.count_nonzero(y_test) / y_test.size))\n",
        "\n",
        "weight = df_source.shape[0] / np.count_nonzero(df_source[target_column_name])\n",
        "\n",
        "# Grid Search\n",
        "parameters = {'max_depth': [3, 4, 5, 6,7],\n",
        "            'min_child_weight': [0.5, 0.8, 1, 2, 3],\n",
        "            'n_estimators': [50, 100, 200, 300, 500],\n",
        "            'subsample': [0.8, 0.95, 1],\n",
        "            'colsample_bytree': [1.0],\n",
        "    }\n",
        "clf_lgbm = GridSearchCV(lgb.LGBMClassifier(random_state = 0), parameters,scoring ='accuracy',cv = 5 ,n_jobs = -1)\n",
        "clf_lgbm = clf_lgbm.fit(X_train ,y_train)\n",
        "pred_lgbm = clf_lgbm.predict(X_test)\n",
        "fpr_lgbm, tpr_lgbm, thresholds_lgbm = roc_curve(y_test, pred_lgbm, pos_label=1)\n",
        "print('AUC:',auc(fpr_lgbm, tpr_lgbm))\n",
        "print('正解率:',accuracy_score(pred_lgbm, y_test))\n",
        "print(\"Best Parameter: {}\".format(clf_lgbm.best_params_))"
      ],
      "execution_count": 260,
      "outputs": [
        {
          "output_type": "stream",
          "text": [
            "\n",
            "# Survived rate\n",
            "train: size:712 ,default 273 , rate 0.383427\n",
            "test : size: 179 , default 69, rate 0.385475\n",
            "AUC: 0.7860342555994729\n",
            "正解率: 0.8100558659217877\n",
            "Best Parameter: {'colsample_bytree': 1.0, 'max_depth': 4, 'min_child_weight': 2, 'n_estimators': 200, 'subsample': 0.8}\n"
          ],
          "name": "stdout"
        }
      ]
    },
    {
      "metadata": {
        "id": "jjErkJAJpfc4",
        "colab_type": "code",
        "colab": {}
      },
      "cell_type": "code",
      "source": [
        ""
      ],
      "execution_count": 0,
      "outputs": []
    },
    {
      "metadata": {
        "colab_type": "text",
        "id": "n_PVWZQdpEYr"
      },
      "cell_type": "markdown",
      "source": [
        "# Random Forest"
      ]
    },
    {
      "metadata": {
        "id": "sNzqvw1AwIT5",
        "colab_type": "code",
        "colab": {}
      },
      "cell_type": "code",
      "source": [
        "# # 欠損値処理　※以降のモデルは欠損値処理が必要なため\n",
        "# # 年齢の欠損値があるデータに年齢の中央値を入れる\n",
        "# df_source_misdel = df_source\n",
        "# df_source_misdel.loc[:,['Age']] = df_source.loc[:,['Age']].fillna(df_source.loc[:,['Age']].median())\n",
        "\n",
        "# # df_source['Embarked'] = df_source.dropna(subset=['Embarked'])"
      ],
      "execution_count": 0,
      "outputs": []
    },
    {
      "metadata": {
        "id": "OQkCLRZ8wIOF",
        "colab_type": "code",
        "colab": {}
      },
      "cell_type": "code",
      "source": [
        "# df_source_misdel.isnull().sum()"
      ],
      "execution_count": 0,
      "outputs": []
    },
    {
      "metadata": {
        "id": "NIb1CPXpwIHd",
        "colab_type": "code",
        "colab": {}
      },
      "cell_type": "code",
      "source": [
        "# # データの分割\n",
        "# target_column_name = 'Survived'\n",
        "# # データの分割\n",
        "\n",
        "# ## trainとtestデータのデフォルト数が均等に成るように設定\n",
        "# df_train , df_test = train_test_split(df_source_misdel ,test_size = 0.2, stratify=df_source_misdel[target_column_name],random_state = 0)\n",
        "\n",
        "\n",
        "# X_train = df_train.drop(df_train.select_dtypes(include = object),axis = 1)\n",
        "# X_train = df_train.drop(target_column_name,axis = 1)\n",
        "# y_train = df_train[target_column_name]\n",
        "\n",
        "# X_test = df_test.drop(df_test.select_dtypes(include = object),axis = 1)\n",
        "# X_test = df_test.drop(target_column_name,axis = 1)\n",
        "# y_test = df_test[target_column_name]"
      ],
      "execution_count": 0,
      "outputs": []
    },
    {
      "metadata": {
        "id": "Ixilo8VfuDpe",
        "colab_type": "code",
        "colab": {}
      },
      "cell_type": "code",
      "source": [
        "# from sklearn.ensemble import RandomForestClassifier"
      ],
      "execution_count": 0,
      "outputs": []
    },
    {
      "metadata": {
        "colab_type": "code",
        "id": "R-stAb1bpEYu",
        "colab": {}
      },
      "cell_type": "code",
      "source": [
        "# print('\\n# Survived rate')\n",
        "# print('train: size:{} ,default {} , rate {:f}'.format(\n",
        "# y_train.size,\n",
        "# np.count_nonzero(y_train),\n",
        "# np.count_nonzero(y_train) / y_train.size))\n",
        "\n",
        "# print('test : size: {} , default {}, rate {:f}'.format(\n",
        "# y_test.size,\n",
        "# np.count_nonzero(y_test),\n",
        "# np.count_nonzero(y_test) / y_test.size))\n",
        "\n",
        "# weight = df_source.shape[0] / np.count_nonzero(df_source[target_column_name])\n",
        "\n",
        "# # Grid Search\n",
        "# parameters = {'max_depth': [3, 4, 5, 6,7],\n",
        "#             'min_child_weight': [0.5, 0.8, 1, 2, 3],\n",
        "#             'n_estimators': [50, 100, 200, 300, 500],\n",
        "#             'subsample': [0.8, 0.95, 1],\n",
        "#             'colsample_bytree': [1.0],\n",
        "#     }\n",
        "\n",
        "\n",
        "# clf_rf = RandomForestClassifier(random_state = 0)\n",
        "# clf_rf = clf_rf.fit(X_train , y_train)\n",
        "# pred_rf = clf_rf.predict(X_test)\n",
        "# fpr_rf,tpr_rf,thresholds_rf = roc_curve(y_test, pred_rf,pos_label =1)\n",
        "# print('AUC:' , auc(fpr_rf,tpr_rf))\n",
        "# print('正解率:',accuracy_score(pred_rf,y_test))"
      ],
      "execution_count": 0,
      "outputs": []
    },
    {
      "metadata": {
        "colab_type": "code",
        "id": "zEbo4F5rMzJl",
        "colab": {}
      },
      "cell_type": "code",
      "source": [
        "# features = X_train.columns\n",
        "# importances = clf_rf.feature_importances_\n",
        "# indices = np.argsort(importances)\n",
        "\n",
        "# plt.barh(range(len(indices)), importances[indices])\n",
        "# plt.yticks(range(len(indices)), features[indices])\n",
        "# plt.show()"
      ],
      "execution_count": 0,
      "outputs": []
    },
    {
      "metadata": {
        "colab_type": "code",
        "id": "YjjcHJZOQX91",
        "colab": {}
      },
      "cell_type": "code",
      "source": [
        "# # Grid Search\n",
        "# parameters = {\n",
        "#     'n_estimators':[i for i in range(10,100,10)],\n",
        "#     'criterion':['gini','entropy'],\n",
        "#     'max_depth':[i for i in range(1,10,1)],\n",
        "#     'min_samples_split':[2,4,10,12,16]\n",
        "# }\n",
        "\n",
        "# clf_rf = GridSearchCV(RandomForestClassifier(random_state = 0), parameters,scoring ='accuracy',cv = 5 ,n_jobs = -1)\n",
        "# clf_rf = clf_rf.fit(X_train ,y_train)\n",
        "# pred_rf = clf_rf.predict(X_test)\n",
        "# fpr_rf, tpr_rf, thresholds_rf = roc_curve(y_test, pred_rf, pos_label=1)\n",
        "# print('AUC:',auc(fpr_rf, tpr_rf))\n",
        "# print('正解率:',accuracy_score(pred_rf, y_test))\n",
        "# print(\"Best Parameter: {}\".format(clf_rf.best_params_))"
      ],
      "execution_count": 0,
      "outputs": []
    },
    {
      "metadata": {
        "id": "gzk450aapfdd",
        "colab_type": "text"
      },
      "cell_type": "markdown",
      "source": [
        "# submitファイル提出"
      ]
    },
    {
      "metadata": {
        "id": "w8xc71JTpfde",
        "colab_type": "code",
        "colab": {}
      },
      "cell_type": "code",
      "source": [
        "# 提出用ファイルを予測\n",
        "pred_xgb = clf_xgb.predict(df_sub)"
      ],
      "execution_count": 0,
      "outputs": []
    },
    {
      "metadata": {
        "id": "IdjoXo2ux3ga",
        "colab_type": "code",
        "colab": {}
      },
      "cell_type": "code",
      "source": [
        "sub = pd.DataFrame(pd.read_csv(\"input/test.csv\")['PassengerId'])\n",
        "sub['Survived'] = list(map(int, pred_xgb))\n",
        "sub.to_csv(\"submission.csv\", index = False)"
      ],
      "execution_count": 0,
      "outputs": []
    },
    {
      "metadata": {
        "id": "YjeNfUnEuTxZ",
        "colab_type": "code",
        "outputId": "ebe42633-d2de-4831-bff4-ddc58a46f5ff",
        "colab": {
          "base_uri": "https://localhost:8080/",
          "height": 35
        }
      },
      "cell_type": "code",
      "source": [
        "sub.head()\n",
        "print(sub.shape)"
      ],
      "execution_count": 252,
      "outputs": [
        {
          "output_type": "stream",
          "text": [
            "(418, 2)\n"
          ],
          "name": "stdout"
        }
      ]
    },
    {
      "metadata": {
        "id": "5826CPPD20a7",
        "colab_type": "code",
        "outputId": "57bb8ec3-c1bb-46e7-ec80-a42fe20db429",
        "colab": {
          "base_uri": "https://localhost:8080/",
          "height": 52
        }
      },
      "cell_type": "code",
      "source": [
        "# submit the file to kaggle\n",
        "!kaggle competitions submit -c titanic -f submission.csv -m test"
      ],
      "execution_count": 256,
      "outputs": [
        {
          "output_type": "stream",
          "text": [
            "100% 2.77k/2.77k [00:02<00:00, 1.06kB/s]\n",
            "Successfully submitted to Titanic: Machine Learning from Disaster"
          ],
          "name": "stdout"
        }
      ]
    },
    {
      "metadata": {
        "id": "LPUPikj3Md0e",
        "colab_type": "code",
        "colab": {}
      },
      "cell_type": "code",
      "source": [
        "# Light GBMでも提出\n",
        "pred_lgbm = clf_lgbm.predict(df_sub)"
      ],
      "execution_count": 0,
      "outputs": []
    },
    {
      "metadata": {
        "id": "uTr-SooTNLZ4",
        "colab_type": "code",
        "colab": {}
      },
      "cell_type": "code",
      "source": [
        ""
      ],
      "execution_count": 0,
      "outputs": []
    },
    {
      "metadata": {
        "id": "2kD13j65N0Ve",
        "colab_type": "code",
        "colab": {}
      },
      "cell_type": "code",
      "source": [
        "sub = pd.DataFrame(pd.read_csv('input/test.csv')['PassengerId'])\n",
        "sub['Survived'] = list(map(int,pred_lgbm))\n",
        "sub.to_csv('submission_lgbm_0407.csv', index = False)"
      ],
      "execution_count": 0,
      "outputs": []
    },
    {
      "metadata": {
        "id": "-OFlWzDLMdua",
        "colab_type": "code",
        "colab": {
          "base_uri": "https://localhost:8080/",
          "height": 52
        },
        "outputId": "3779b440-96c3-4020-fb6a-4297089b5595"
      },
      "cell_type": "code",
      "source": [
        "# submit the file to kaggle\n",
        "!kaggle competitions submit -c titanic -f submission_lgbm_0407.csv -m lgbm"
      ],
      "execution_count": 268,
      "outputs": [
        {
          "output_type": "stream",
          "text": [
            "100% 2.77k/2.77k [00:02<00:00, 1.20kB/s]\n",
            "Successfully submitted to Titanic: Machine Learning from Disaster"
          ],
          "name": "stdout"
        }
      ]
    },
    {
      "metadata": {
        "id": "90xqHV2TMcya",
        "colab_type": "code",
        "colab": {}
      },
      "cell_type": "code",
      "source": [
        ""
      ],
      "execution_count": 0,
      "outputs": []
    }
  ]
}